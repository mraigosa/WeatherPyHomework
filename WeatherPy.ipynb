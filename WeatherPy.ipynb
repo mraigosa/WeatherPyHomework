{
 "cells": [
  {
   "cell_type": "markdown",
   "metadata": {},
   "source": [
    "# WeatherPy"
   ]
  },
  {
   "cell_type": "markdown",
   "metadata": {},
   "source": [
    "Analysis\n",
    "* Observation Trend 1: The cities with the hightest temperatures are between the latitude values of -20 and 20.\n",
    "    \n",
    "* Observation Trend 2: Due to land mass (and more cities) north of longitude 40, more colder temperatures are recorded in the northern hemisphere compared the southern hemisphere south of longitude -40.\n",
    "\n",
    "* Slight coorelation between humidity and temperature relative to longitude."
   ]
  },
  {
   "cell_type": "code",
   "execution_count": 330,
   "metadata": {
    "collapsed": true
   },
   "outputs": [],
   "source": [
    "# Import dependencies\n",
    "import requests\n",
    "import json\n",
    "import random\n",
    "from config import api_key\n",
    "import numpy as np\n",
    "import pandas as pd\n",
    "from citipy import citipy"
   ]
  },
  {
   "cell_type": "code",
   "execution_count": 331,
   "metadata": {
    "collapsed": true
   },
   "outputs": [],
   "source": [
    "# Save config information\n",
    "url = \"http://api.openweathermap.org/data/2.5/weather?\""
   ]
  },
  {
   "cell_type": "code",
   "execution_count": 332,
   "metadata": {
    "collapsed": true
   },
   "outputs": [],
   "source": [
    "#Generate random lat and lon coordinates\n",
    "lats = np.random.uniform(low=-90.000, high=90.000, size=1400)\n",
    "lngs = np.random.uniform(low=-180.000, high=180.000, size=1400)\n",
    "coord = (list(map(list, zip(lats, lngs))))"
   ]
  },
  {
   "cell_type": "code",
   "execution_count": 333,
   "metadata": {
    "collapsed": true
   },
   "outputs": [],
   "source": [
    "# Build query URL\n",
    "cities = []\n",
    "\n",
    "for coordinate_pair in coord:\n",
    "    lat, lon = coordinate_pair\n",
    "    cities.append(citipy.nearest_city(lat, lon))"
   ]
  },
  {
   "cell_type": "code",
   "execution_count": 334,
   "metadata": {
    "collapsed": true
   },
   "outputs": [],
   "source": [
    "api_request_city_countryu = []\n",
    "\n",
    "for city in cities:\n",
    "    country_code = city.country_code\n",
    "    name = city.city_name\n",
    "    name_country = name + \",\" + country_code\n",
    "    api_request_city_country.append(name_country)\n"
   ]
  },
  {
   "cell_type": "code",
   "execution_count": 335,
   "metadata": {
    "scrolled": true
   },
   "outputs": [
    {
     "name": "stdout",
     "output_type": "stream",
     "text": [
      "Number of API Calls = 620\n"
     ]
    }
   ],
   "source": [
    "dfu = {\"col\":api_request_city_country}\n",
    "dfu = pd.DataFrame(dfu)\n",
    "dfu[\"Count\"] = 1\n",
    "dfu_grouped = dfu.groupby([\"col\"], as_index='False')\n",
    "dfu_grouped_summary = dfu_grouped[\"Count\"].sum().reset_index('col')\n",
    "dfu_grouped_summary[\"Count2\"] = 1\n",
    "number_of_api_calls = dfu_grouped_summary[\"Count2\"].sum()\n",
    "print(\"Number of API Calls = \" + str(number_of_api_calls))"
   ]
  },
  {
   "cell_type": "code",
   "execution_count": 336,
   "metadata": {
    "collapsed": true
   },
   "outputs": [],
   "source": [
    "for index, row in dfu_grouped_summary.iterrows():\n",
    "    query_url = url + \"appid=\" + api_key + \"&units=metric\" + \"&q=\" + (row[\"col\"])"
   ]
  },
  {
   "cell_type": "code",
   "execution_count": 337,
   "metadata": {
    "scrolled": false
   },
   "outputs": [
    {
     "name": "stdout",
     "output_type": "stream",
     "text": [
      "http://api.openweathermap.org/data/2.5/weather?appid=63090c51683d92af2f27efbeeed9ed99&units=metric&q=aasiaat,gl\n",
      "Key Error City Not Used\n",
      "http://api.openweathermap.org/data/2.5/weather?appid=63090c51683d92af2f27efbeeed9ed99&units=metric&q=acajutla,sv\n",
      "http://api.openweathermap.org/data/2.5/weather?appid=63090c51683d92af2f27efbeeed9ed99&units=metric&q=adrar,dz\n",
      "http://api.openweathermap.org/data/2.5/weather?appid=63090c51683d92af2f27efbeeed9ed99&units=metric&q=ahipara,nz\n",
      "Key Error City Not Used\n",
      "http://api.openweathermap.org/data/2.5/weather?appid=63090c51683d92af2f27efbeeed9ed99&units=metric&q=akdepe,tm\n",
      "http://api.openweathermap.org/data/2.5/weather?appid=63090c51683d92af2f27efbeeed9ed99&units=metric&q=aklavik,ca\n",
      "http://api.openweathermap.org/data/2.5/weather?appid=63090c51683d92af2f27efbeeed9ed99&units=metric&q=akropong,gh\n",
      "http://api.openweathermap.org/data/2.5/weather?appid=63090c51683d92af2f27efbeeed9ed99&units=metric&q=albany,au\n",
      "Key Error City Not Used\n",
      "http://api.openweathermap.org/data/2.5/weather?appid=63090c51683d92af2f27efbeeed9ed99&units=metric&q=ales,fr\n",
      "http://api.openweathermap.org/data/2.5/weather?appid=63090c51683d92af2f27efbeeed9ed99&units=metric&q=alice springs,au\n",
      "http://api.openweathermap.org/data/2.5/weather?appid=63090c51683d92af2f27efbeeed9ed99&units=metric&q=alofi,nu\n",
      "http://api.openweathermap.org/data/2.5/weather?appid=63090c51683d92af2f27efbeeed9ed99&units=metric&q=amahai,id\n",
      "http://api.openweathermap.org/data/2.5/weather?appid=63090c51683d92af2f27efbeeed9ed99&units=metric&q=amay,be\n",
      "http://api.openweathermap.org/data/2.5/weather?appid=63090c51683d92af2f27efbeeed9ed99&units=metric&q=ambon,id\n",
      "http://api.openweathermap.org/data/2.5/weather?appid=63090c51683d92af2f27efbeeed9ed99&units=metric&q=ambunti,pg\n",
      "Key Error City Not Used\n",
      "http://api.openweathermap.org/data/2.5/weather?appid=63090c51683d92af2f27efbeeed9ed99&units=metric&q=anadyr,ru\n",
      "http://api.openweathermap.org/data/2.5/weather?appid=63090c51683d92af2f27efbeeed9ed99&units=metric&q=andenes,no\n",
      "Key Error City Not Used\n",
      "http://api.openweathermap.org/data/2.5/weather?appid=63090c51683d92af2f27efbeeed9ed99&units=metric&q=ankazobe,mg\n",
      "http://api.openweathermap.org/data/2.5/weather?appid=63090c51683d92af2f27efbeeed9ed99&units=metric&q=anori,br\n",
      "http://api.openweathermap.org/data/2.5/weather?appid=63090c51683d92af2f27efbeeed9ed99&units=metric&q=antalaha,mg\n",
      "http://api.openweathermap.org/data/2.5/weather?appid=63090c51683d92af2f27efbeeed9ed99&units=metric&q=aquiraz,br\n",
      "Key Error City Not Used\n",
      "Key Error City Not Used\n",
      "http://api.openweathermap.org/data/2.5/weather?appid=63090c51683d92af2f27efbeeed9ed99&units=metric&q=arman,ru\n",
      "http://api.openweathermap.org/data/2.5/weather?appid=63090c51683d92af2f27efbeeed9ed99&units=metric&q=arraial do cabo,br\n",
      "Key Error City Not Used\n",
      "Key Error City Not Used\n",
      "http://api.openweathermap.org/data/2.5/weather?appid=63090c51683d92af2f27efbeeed9ed99&units=metric&q=aswan,eg\n",
      "http://api.openweathermap.org/data/2.5/weather?appid=63090c51683d92af2f27efbeeed9ed99&units=metric&q=atar,mr\n",
      "http://api.openweathermap.org/data/2.5/weather?appid=63090c51683d92af2f27efbeeed9ed99&units=metric&q=atasu,kz\n",
      "http://api.openweathermap.org/data/2.5/weather?appid=63090c51683d92af2f27efbeeed9ed99&units=metric&q=atchison,us\n",
      "http://api.openweathermap.org/data/2.5/weather?appid=63090c51683d92af2f27efbeeed9ed99&units=metric&q=atikokan,ca\n",
      "Key Error City Not Used\n",
      "http://api.openweathermap.org/data/2.5/weather?appid=63090c51683d92af2f27efbeeed9ed99&units=metric&q=atuona,pf\n",
      "http://api.openweathermap.org/data/2.5/weather?appid=63090c51683d92af2f27efbeeed9ed99&units=metric&q=avarua,ck\n",
      "Key Error City Not Used\n",
      "http://api.openweathermap.org/data/2.5/weather?appid=63090c51683d92af2f27efbeeed9ed99&units=metric&q=bafoulabe,ml\n",
      "http://api.openweathermap.org/data/2.5/weather?appid=63090c51683d92af2f27efbeeed9ed99&units=metric&q=bahia honda,cu\n",
      "Key Error City Not Used\n",
      "http://api.openweathermap.org/data/2.5/weather?appid=63090c51683d92af2f27efbeeed9ed99&units=metric&q=balabac,ph\n",
      "http://api.openweathermap.org/data/2.5/weather?appid=63090c51683d92af2f27efbeeed9ed99&units=metric&q=ballina,ie\n",
      "http://api.openweathermap.org/data/2.5/weather?appid=63090c51683d92af2f27efbeeed9ed99&units=metric&q=balta,ua\n",
      "http://api.openweathermap.org/data/2.5/weather?appid=63090c51683d92af2f27efbeeed9ed99&units=metric&q=bambous virieux,mu\n",
      "http://api.openweathermap.org/data/2.5/weather?appid=63090c51683d92af2f27efbeeed9ed99&units=metric&q=banda aceh,id\n",
      "http://api.openweathermap.org/data/2.5/weather?appid=63090c51683d92af2f27efbeeed9ed99&units=metric&q=bandarbeyla,so\n",
      "Key Error City Not Used\n",
      "Key Error City Not Used\n",
      "Key Error City Not Used\n",
      "http://api.openweathermap.org/data/2.5/weather?appid=63090c51683d92af2f27efbeeed9ed99&units=metric&q=barrow,us\n",
      "http://api.openweathermap.org/data/2.5/weather?appid=63090c51683d92af2f27efbeeed9ed99&units=metric&q=bata,gq\n",
      "http://api.openweathermap.org/data/2.5/weather?appid=63090c51683d92af2f27efbeeed9ed99&units=metric&q=batagay-alyta,ru\n",
      "http://api.openweathermap.org/data/2.5/weather?appid=63090c51683d92af2f27efbeeed9ed99&units=metric&q=bathsheba,bb\n",
      "http://api.openweathermap.org/data/2.5/weather?appid=63090c51683d92af2f27efbeeed9ed99&units=metric&q=baykit,ru\n",
      "http://api.openweathermap.org/data/2.5/weather?appid=63090c51683d92af2f27efbeeed9ed99&units=metric&q=beira,mz\n",
      "http://api.openweathermap.org/data/2.5/weather?appid=63090c51683d92af2f27efbeeed9ed99&units=metric&q=beloha,mg\n",
      "Key Error City Not Used\n",
      "http://api.openweathermap.org/data/2.5/weather?appid=63090c51683d92af2f27efbeeed9ed99&units=metric&q=bengkulu,id\n",
      "Key Error City Not Used\n",
      "http://api.openweathermap.org/data/2.5/weather?appid=63090c51683d92af2f27efbeeed9ed99&units=metric&q=beringovskiy,ru\n",
      "http://api.openweathermap.org/data/2.5/weather?appid=63090c51683d92af2f27efbeeed9ed99&units=metric&q=berlevag,no\n",
      "http://api.openweathermap.org/data/2.5/weather?appid=63090c51683d92af2f27efbeeed9ed99&units=metric&q=bermeo,es\n",
      "http://api.openweathermap.org/data/2.5/weather?appid=63090c51683d92af2f27efbeeed9ed99&units=metric&q=bethel,us\n",
      "http://api.openweathermap.org/data/2.5/weather?appid=63090c51683d92af2f27efbeeed9ed99&units=metric&q=bilibino,ru\n",
      "Key Error City Not Used\n",
      "http://api.openweathermap.org/data/2.5/weather?appid=63090c51683d92af2f27efbeeed9ed99&units=metric&q=bintulu,my\n",
      "Key Error City Not Used\n",
      "http://api.openweathermap.org/data/2.5/weather?appid=63090c51683d92af2f27efbeeed9ed99&units=metric&q=bluff,nz\n",
      "http://api.openweathermap.org/data/2.5/weather?appid=63090c51683d92af2f27efbeeed9ed99&units=metric&q=boddam,gb\n",
      "http://api.openweathermap.org/data/2.5/weather?appid=63090c51683d92af2f27efbeeed9ed99&units=metric&q=bokoro,td\n",
      "Key Error City Not Used\n",
      "http://api.openweathermap.org/data/2.5/weather?appid=63090c51683d92af2f27efbeeed9ed99&units=metric&q=bonfim,br\n",
      "http://api.openweathermap.org/data/2.5/weather?appid=63090c51683d92af2f27efbeeed9ed99&units=metric&q=bowen,au\n",
      "Key Error City Not Used\n",
      "http://api.openweathermap.org/data/2.5/weather?appid=63090c51683d92af2f27efbeeed9ed99&units=metric&q=boyolangu,id\n",
      "http://api.openweathermap.org/data/2.5/weather?appid=63090c51683d92af2f27efbeeed9ed99&units=metric&q=brae,gb\n",
      "http://api.openweathermap.org/data/2.5/weather?appid=63090c51683d92af2f27efbeeed9ed99&units=metric&q=bredasdorp,za\n",
      "http://api.openweathermap.org/data/2.5/weather?appid=63090c51683d92af2f27efbeeed9ed99&units=metric&q=brownsville,us\n",
      "Key Error City Not Used\n",
      "http://api.openweathermap.org/data/2.5/weather?appid=63090c51683d92af2f27efbeeed9ed99&units=metric&q=buchanan,lr\n",
      "Key Error City Not Used\n",
      "http://api.openweathermap.org/data/2.5/weather?appid=63090c51683d92af2f27efbeeed9ed99&units=metric&q=bure,et\n",
      "http://api.openweathermap.org/data/2.5/weather?appid=63090c51683d92af2f27efbeeed9ed99&units=metric&q=burnie,au\n",
      "http://api.openweathermap.org/data/2.5/weather?appid=63090c51683d92af2f27efbeeed9ed99&units=metric&q=businga,cd\n",
      "http://api.openweathermap.org/data/2.5/weather?appid=63090c51683d92af2f27efbeeed9ed99&units=metric&q=busselton,au\n",
      "http://api.openweathermap.org/data/2.5/weather?appid=63090c51683d92af2f27efbeeed9ed99&units=metric&q=butaritari,ki\n",
      "http://api.openweathermap.org/data/2.5/weather?appid=63090c51683d92af2f27efbeeed9ed99&units=metric&q=byron bay,au\n",
      "http://api.openweathermap.org/data/2.5/weather?appid=63090c51683d92af2f27efbeeed9ed99&units=metric&q=cabo san lucas,mx\n"
     ]
    },
    {
     "name": "stdout",
     "output_type": "stream",
     "text": [
      "http://api.openweathermap.org/data/2.5/weather?appid=63090c51683d92af2f27efbeeed9ed99&units=metric&q=cabra,ph\n",
      "Key Error City Not Used\n",
      "http://api.openweathermap.org/data/2.5/weather?appid=63090c51683d92af2f27efbeeed9ed99&units=metric&q=calatayud,es\n",
      "http://api.openweathermap.org/data/2.5/weather?appid=63090c51683d92af2f27efbeeed9ed99&units=metric&q=camacupa,ao\n",
      "http://api.openweathermap.org/data/2.5/weather?appid=63090c51683d92af2f27efbeeed9ed99&units=metric&q=camana,pe\n",
      "http://api.openweathermap.org/data/2.5/weather?appid=63090c51683d92af2f27efbeeed9ed99&units=metric&q=cape town,za\n",
      "http://api.openweathermap.org/data/2.5/weather?appid=63090c51683d92af2f27efbeeed9ed99&units=metric&q=caravelas,br\n",
      "http://api.openweathermap.org/data/2.5/weather?appid=63090c51683d92af2f27efbeeed9ed99&units=metric&q=carnarvon,au\n",
      "http://api.openweathermap.org/data/2.5/weather?appid=63090c51683d92af2f27efbeeed9ed99&units=metric&q=cascas,pe\n",
      "http://api.openweathermap.org/data/2.5/weather?appid=63090c51683d92af2f27efbeeed9ed99&units=metric&q=castro,cl\n",
      "http://api.openweathermap.org/data/2.5/weather?appid=63090c51683d92af2f27efbeeed9ed99&units=metric&q=cayenne,gf\n",
      "http://api.openweathermap.org/data/2.5/weather?appid=63090c51683d92af2f27efbeeed9ed99&units=metric&q=challapata,bo\n",
      "Key Error City Not Used\n",
      "http://api.openweathermap.org/data/2.5/weather?appid=63090c51683d92af2f27efbeeed9ed99&units=metric&q=cherskiy,ru\n",
      "http://api.openweathermap.org/data/2.5/weather?appid=63090c51683d92af2f27efbeeed9ed99&units=metric&q=chilca,pe\n",
      "http://api.openweathermap.org/data/2.5/weather?appid=63090c51683d92af2f27efbeeed9ed99&units=metric&q=chimbote,pe\n",
      "http://api.openweathermap.org/data/2.5/weather?appid=63090c51683d92af2f27efbeeed9ed99&units=metric&q=chirongui,yt\n",
      "http://api.openweathermap.org/data/2.5/weather?appid=63090c51683d92af2f27efbeeed9ed99&units=metric&q=chiscas,co\n",
      "http://api.openweathermap.org/data/2.5/weather?appid=63090c51683d92af2f27efbeeed9ed99&units=metric&q=chokurdakh,ru\n",
      "http://api.openweathermap.org/data/2.5/weather?appid=63090c51683d92af2f27efbeeed9ed99&units=metric&q=chontalpa,mx\n",
      "http://api.openweathermap.org/data/2.5/weather?appid=63090c51683d92af2f27efbeeed9ed99&units=metric&q=christchurch,nz\n",
      "http://api.openweathermap.org/data/2.5/weather?appid=63090c51683d92af2f27efbeeed9ed99&units=metric&q=chumikan,ru\n",
      "http://api.openweathermap.org/data/2.5/weather?appid=63090c51683d92af2f27efbeeed9ed99&units=metric&q=chuy,uy\n",
      "http://api.openweathermap.org/data/2.5/weather?appid=63090c51683d92af2f27efbeeed9ed99&units=metric&q=cidreira,br\n",
      "http://api.openweathermap.org/data/2.5/weather?appid=63090c51683d92af2f27efbeeed9ed99&units=metric&q=clyde river,ca\n",
      "http://api.openweathermap.org/data/2.5/weather?appid=63090c51683d92af2f27efbeeed9ed99&units=metric&q=coahuayana,mx\n",
      "http://api.openweathermap.org/data/2.5/weather?appid=63090c51683d92af2f27efbeeed9ed99&units=metric&q=cockburn town,bs\n",
      "Key Error City Not Used\n",
      "http://api.openweathermap.org/data/2.5/weather?appid=63090c51683d92af2f27efbeeed9ed99&units=metric&q=cody,us\n",
      "http://api.openweathermap.org/data/2.5/weather?appid=63090c51683d92af2f27efbeeed9ed99&units=metric&q=coihaique,cl\n",
      "http://api.openweathermap.org/data/2.5/weather?appid=63090c51683d92af2f27efbeeed9ed99&units=metric&q=comodoro rivadavia,ar\n",
      "http://api.openweathermap.org/data/2.5/weather?appid=63090c51683d92af2f27efbeeed9ed99&units=metric&q=conceicao do araguaia,br\n",
      "Key Error City Not Used\n",
      "http://api.openweathermap.org/data/2.5/weather?appid=63090c51683d92af2f27efbeeed9ed99&units=metric&q=conthey,ch\n",
      "http://api.openweathermap.org/data/2.5/weather?appid=63090c51683d92af2f27efbeeed9ed99&units=metric&q=copiapo,cl\n",
      "http://api.openweathermap.org/data/2.5/weather?appid=63090c51683d92af2f27efbeeed9ed99&units=metric&q=coquimbo,cl\n",
      "http://api.openweathermap.org/data/2.5/weather?appid=63090c51683d92af2f27efbeeed9ed99&units=metric&q=cordele,us\n",
      "http://api.openweathermap.org/data/2.5/weather?appid=63090c51683d92af2f27efbeeed9ed99&units=metric&q=corpus christi,py\n",
      "http://api.openweathermap.org/data/2.5/weather?appid=63090c51683d92af2f27efbeeed9ed99&units=metric&q=corrente,br\n",
      "http://api.openweathermap.org/data/2.5/weather?appid=63090c51683d92af2f27efbeeed9ed99&units=metric&q=coruripe,br\n",
      "http://api.openweathermap.org/data/2.5/weather?appid=63090c51683d92af2f27efbeeed9ed99&units=metric&q=cuencame,mx\n",
      "http://api.openweathermap.org/data/2.5/weather?appid=63090c51683d92af2f27efbeeed9ed99&units=metric&q=curico,cl\n",
      "http://api.openweathermap.org/data/2.5/weather?appid=63090c51683d92af2f27efbeeed9ed99&units=metric&q=dalianwan,cn\n",
      "http://api.openweathermap.org/data/2.5/weather?appid=63090c51683d92af2f27efbeeed9ed99&units=metric&q=damietta,eg\n",
      "http://api.openweathermap.org/data/2.5/weather?appid=63090c51683d92af2f27efbeeed9ed99&units=metric&q=dandong,cn\n",
      "http://api.openweathermap.org/data/2.5/weather?appid=63090c51683d92af2f27efbeeed9ed99&units=metric&q=danesti,ro\n",
      "Key Error City Not Used\n",
      "http://api.openweathermap.org/data/2.5/weather?appid=63090c51683d92af2f27efbeeed9ed99&units=metric&q=de-kastri,ru\n",
      "http://api.openweathermap.org/data/2.5/weather?appid=63090c51683d92af2f27efbeeed9ed99&units=metric&q=deder,et\n",
      "http://api.openweathermap.org/data/2.5/weather?appid=63090c51683d92af2f27efbeeed9ed99&units=metric&q=denpasar,id\n",
      "http://api.openweathermap.org/data/2.5/weather?appid=63090c51683d92af2f27efbeeed9ed99&units=metric&q=deputatskiy,ru\n",
      "http://api.openweathermap.org/data/2.5/weather?appid=63090c51683d92af2f27efbeeed9ed99&units=metric&q=dicabisagan,ph\n",
      "http://api.openweathermap.org/data/2.5/weather?appid=63090c51683d92af2f27efbeeed9ed99&units=metric&q=dikson,ru\n",
      "http://api.openweathermap.org/data/2.5/weather?appid=63090c51683d92af2f27efbeeed9ed99&units=metric&q=dingle,ie\n",
      "http://api.openweathermap.org/data/2.5/weather?appid=63090c51683d92af2f27efbeeed9ed99&units=metric&q=dongfeng,cn\n",
      "http://api.openweathermap.org/data/2.5/weather?appid=63090c51683d92af2f27efbeeed9ed99&units=metric&q=dongning,cn\n",
      "http://api.openweathermap.org/data/2.5/weather?appid=63090c51683d92af2f27efbeeed9ed99&units=metric&q=dongsheng,cn\n",
      "http://api.openweathermap.org/data/2.5/weather?appid=63090c51683d92af2f27efbeeed9ed99&units=metric&q=dunedin,nz\n",
      "http://api.openweathermap.org/data/2.5/weather?appid=63090c51683d92af2f27efbeeed9ed99&units=metric&q=dunmore east,ie\n",
      "Key Error City Not Used\n",
      "http://api.openweathermap.org/data/2.5/weather?appid=63090c51683d92af2f27efbeeed9ed99&units=metric&q=east london,za\n",
      "Key Error City Not Used\n",
      "Key Error City Not Used\n",
      "http://api.openweathermap.org/data/2.5/weather?appid=63090c51683d92af2f27efbeeed9ed99&units=metric&q=elkton,us\n",
      "http://api.openweathermap.org/data/2.5/weather?appid=63090c51683d92af2f27efbeeed9ed99&units=metric&q=esperance,au\n",
      "http://api.openweathermap.org/data/2.5/weather?appid=63090c51683d92af2f27efbeeed9ed99&units=metric&q=evensk,ru\n",
      "http://api.openweathermap.org/data/2.5/weather?appid=63090c51683d92af2f27efbeeed9ed99&units=metric&q=eyl,so\n",
      "http://api.openweathermap.org/data/2.5/weather?appid=63090c51683d92af2f27efbeeed9ed99&units=metric&q=faanui,pf\n",
      "http://api.openweathermap.org/data/2.5/weather?appid=63090c51683d92af2f27efbeeed9ed99&units=metric&q=fairbanks,us\n",
      "http://api.openweathermap.org/data/2.5/weather?appid=63090c51683d92af2f27efbeeed9ed99&units=metric&q=fare,pf\n",
      "http://api.openweathermap.org/data/2.5/weather?appid=63090c51683d92af2f27efbeeed9ed99&units=metric&q=faro,pt\n",
      "Key Error City Not Used\n",
      "http://api.openweathermap.org/data/2.5/weather?appid=63090c51683d92af2f27efbeeed9ed99&units=metric&q=fethiye,tr\n",
      "http://api.openweathermap.org/data/2.5/weather?appid=63090c51683d92af2f27efbeeed9ed99&units=metric&q=filandia,co\n",
      "http://api.openweathermap.org/data/2.5/weather?appid=63090c51683d92af2f27efbeeed9ed99&units=metric&q=flinders,au\n",
      "http://api.openweathermap.org/data/2.5/weather?appid=63090c51683d92af2f27efbeeed9ed99&units=metric&q=fonte boa,br\n",
      "http://api.openweathermap.org/data/2.5/weather?appid=63090c51683d92af2f27efbeeed9ed99&units=metric&q=fort morgan,us\n",
      "http://api.openweathermap.org/data/2.5/weather?appid=63090c51683d92af2f27efbeeed9ed99&units=metric&q=fort nelson,ca\n",
      "http://api.openweathermap.org/data/2.5/weather?appid=63090c51683d92af2f27efbeeed9ed99&units=metric&q=fortuna,us\n",
      "http://api.openweathermap.org/data/2.5/weather?appid=63090c51683d92af2f27efbeeed9ed99&units=metric&q=fuling,cn\n"
     ]
    },
    {
     "name": "stdout",
     "output_type": "stream",
     "text": [
      "http://api.openweathermap.org/data/2.5/weather?appid=63090c51683d92af2f27efbeeed9ed99&units=metric&q=funadhoo,mv\n",
      "http://api.openweathermap.org/data/2.5/weather?appid=63090c51683d92af2f27efbeeed9ed99&units=metric&q=galle,lk\n",
      "http://api.openweathermap.org/data/2.5/weather?appid=63090c51683d92af2f27efbeeed9ed99&units=metric&q=gamba,ga\n",
      "http://api.openweathermap.org/data/2.5/weather?appid=63090c51683d92af2f27efbeeed9ed99&units=metric&q=gambela,et\n",
      "Key Error City Not Used\n",
      "http://api.openweathermap.org/data/2.5/weather?appid=63090c51683d92af2f27efbeeed9ed99&units=metric&q=gbadolite,cd\n",
      "http://api.openweathermap.org/data/2.5/weather?appid=63090c51683d92af2f27efbeeed9ed99&units=metric&q=georgetown,sh\n",
      "http://api.openweathermap.org/data/2.5/weather?appid=63090c51683d92af2f27efbeeed9ed99&units=metric&q=geraldton,au\n",
      "http://api.openweathermap.org/data/2.5/weather?appid=63090c51683d92af2f27efbeeed9ed99&units=metric&q=ginir,et\n",
      "http://api.openweathermap.org/data/2.5/weather?appid=63090c51683d92af2f27efbeeed9ed99&units=metric&q=gizo,sb\n",
      "http://api.openweathermap.org/data/2.5/weather?appid=63090c51683d92af2f27efbeeed9ed99&units=metric&q=goure,ne\n",
      "Key Error City Not Used\n",
      "http://api.openweathermap.org/data/2.5/weather?appid=63090c51683d92af2f27efbeeed9ed99&units=metric&q=grand forks,us\n",
      "http://api.openweathermap.org/data/2.5/weather?appid=63090c51683d92af2f27efbeeed9ed99&units=metric&q=grand gaube,mu\n",
      "Key Error City Not Used\n",
      "http://api.openweathermap.org/data/2.5/weather?appid=63090c51683d92af2f27efbeeed9ed99&units=metric&q=great yarmouth,gb\n",
      "http://api.openweathermap.org/data/2.5/weather?appid=63090c51683d92af2f27efbeeed9ed99&units=metric&q=greeneville,us\n",
      "http://api.openweathermap.org/data/2.5/weather?appid=63090c51683d92af2f27efbeeed9ed99&units=metric&q=greenwood,us\n",
      "http://api.openweathermap.org/data/2.5/weather?appid=63090c51683d92af2f27efbeeed9ed99&units=metric&q=greymouth,nz\n",
      "http://api.openweathermap.org/data/2.5/weather?appid=63090c51683d92af2f27efbeeed9ed99&units=metric&q=griffith,au\n",
      "http://api.openweathermap.org/data/2.5/weather?appid=63090c51683d92af2f27efbeeed9ed99&units=metric&q=grindavik,is\n",
      "http://api.openweathermap.org/data/2.5/weather?appid=63090c51683d92af2f27efbeeed9ed99&units=metric&q=gushikawa,jp\n",
      "http://api.openweathermap.org/data/2.5/weather?appid=63090c51683d92af2f27efbeeed9ed99&units=metric&q=ha giang,vn\n",
      "http://api.openweathermap.org/data/2.5/weather?appid=63090c51683d92af2f27efbeeed9ed99&units=metric&q=haileybury,ca\n",
      "http://api.openweathermap.org/data/2.5/weather?appid=63090c51683d92af2f27efbeeed9ed99&units=metric&q=haines junction,ca\n",
      "http://api.openweathermap.org/data/2.5/weather?appid=63090c51683d92af2f27efbeeed9ed99&units=metric&q=hakkari,tr\n",
      "http://api.openweathermap.org/data/2.5/weather?appid=63090c51683d92af2f27efbeeed9ed99&units=metric&q=half moon bay,us\n",
      "http://api.openweathermap.org/data/2.5/weather?appid=63090c51683d92af2f27efbeeed9ed99&units=metric&q=hamilton,bm\n",
      "http://api.openweathermap.org/data/2.5/weather?appid=63090c51683d92af2f27efbeeed9ed99&units=metric&q=hare bay,ca\n",
      "http://api.openweathermap.org/data/2.5/weather?appid=63090c51683d92af2f27efbeeed9ed99&units=metric&q=harper,lr\n",
      "http://api.openweathermap.org/data/2.5/weather?appid=63090c51683d92af2f27efbeeed9ed99&units=metric&q=harrogate,gb\n",
      "http://api.openweathermap.org/data/2.5/weather?appid=63090c51683d92af2f27efbeeed9ed99&units=metric&q=hasaki,jp\n",
      "http://api.openweathermap.org/data/2.5/weather?appid=63090c51683d92af2f27efbeeed9ed99&units=metric&q=hashtrud,ir\n",
      "http://api.openweathermap.org/data/2.5/weather?appid=63090c51683d92af2f27efbeeed9ed99&units=metric&q=havre-saint-pierre,ca\n",
      "http://api.openweathermap.org/data/2.5/weather?appid=63090c51683d92af2f27efbeeed9ed99&units=metric&q=helena,us\n",
      "http://api.openweathermap.org/data/2.5/weather?appid=63090c51683d92af2f27efbeeed9ed99&units=metric&q=hermanus,za\n",
      "http://api.openweathermap.org/data/2.5/weather?appid=63090c51683d92af2f27efbeeed9ed99&units=metric&q=hilo,us\n",
      "http://api.openweathermap.org/data/2.5/weather?appid=63090c51683d92af2f27efbeeed9ed99&units=metric&q=hithadhoo,mv\n",
      "http://api.openweathermap.org/data/2.5/weather?appid=63090c51683d92af2f27efbeeed9ed99&units=metric&q=hobart,au\n",
      "http://api.openweathermap.org/data/2.5/weather?appid=63090c51683d92af2f27efbeeed9ed99&units=metric&q=hofn,is\n",
      "http://api.openweathermap.org/data/2.5/weather?appid=63090c51683d92af2f27efbeeed9ed99&units=metric&q=honningsvag,no\n",
      "http://api.openweathermap.org/data/2.5/weather?appid=63090c51683d92af2f27efbeeed9ed99&units=metric&q=hovd,mn\n",
      "http://api.openweathermap.org/data/2.5/weather?appid=63090c51683d92af2f27efbeeed9ed99&units=metric&q=hualmay,pe\n",
      "http://api.openweathermap.org/data/2.5/weather?appid=63090c51683d92af2f27efbeeed9ed99&units=metric&q=huilong,cn\n",
      "http://api.openweathermap.org/data/2.5/weather?appid=63090c51683d92af2f27efbeeed9ed99&units=metric&q=ialibu,pg\n",
      "http://api.openweathermap.org/data/2.5/weather?appid=63090c51683d92af2f27efbeeed9ed99&units=metric&q=ifanadiana,mg\n",
      "http://api.openweathermap.org/data/2.5/weather?appid=63090c51683d92af2f27efbeeed9ed99&units=metric&q=igarka,ru\n",
      "http://api.openweathermap.org/data/2.5/weather?appid=63090c51683d92af2f27efbeeed9ed99&units=metric&q=igurubi,tz\n",
      "http://api.openweathermap.org/data/2.5/weather?appid=63090c51683d92af2f27efbeeed9ed99&units=metric&q=ilinskiy,ru\n",
      "Key Error City Not Used\n",
      "http://api.openweathermap.org/data/2.5/weather?appid=63090c51683d92af2f27efbeeed9ed99&units=metric&q=ilulissat,gl\n",
      "http://api.openweathermap.org/data/2.5/weather?appid=63090c51683d92af2f27efbeeed9ed99&units=metric&q=imperia,it\n",
      "http://api.openweathermap.org/data/2.5/weather?appid=63090c51683d92af2f27efbeeed9ed99&units=metric&q=imphal,in\n",
      "http://api.openweathermap.org/data/2.5/weather?appid=63090c51683d92af2f27efbeeed9ed99&units=metric&q=indian trail,us\n",
      "http://api.openweathermap.org/data/2.5/weather?appid=63090c51683d92af2f27efbeeed9ed99&units=metric&q=ingham,au\n",
      "http://api.openweathermap.org/data/2.5/weather?appid=63090c51683d92af2f27efbeeed9ed99&units=metric&q=inhambane,mz\n",
      "http://api.openweathermap.org/data/2.5/weather?appid=63090c51683d92af2f27efbeeed9ed99&units=metric&q=inirida,co\n",
      "Key Error City Not Used\n",
      "http://api.openweathermap.org/data/2.5/weather?appid=63090c51683d92af2f27efbeeed9ed99&units=metric&q=ippy,cf\n",
      "http://api.openweathermap.org/data/2.5/weather?appid=63090c51683d92af2f27efbeeed9ed99&units=metric&q=iqaluit,ca\n",
      "http://api.openweathermap.org/data/2.5/weather?appid=63090c51683d92af2f27efbeeed9ed99&units=metric&q=iquitos,pe\n",
      "http://api.openweathermap.org/data/2.5/weather?appid=63090c51683d92af2f27efbeeed9ed99&units=metric&q=isangel,vu\n",
      "http://api.openweathermap.org/data/2.5/weather?appid=63090c51683d92af2f27efbeeed9ed99&units=metric&q=ishigaki,jp\n",
      "http://api.openweathermap.org/data/2.5/weather?appid=63090c51683d92af2f27efbeeed9ed99&units=metric&q=itoman,jp\n",
      "http://api.openweathermap.org/data/2.5/weather?appid=63090c51683d92af2f27efbeeed9ed99&units=metric&q=jamestown,sh\n",
      "http://api.openweathermap.org/data/2.5/weather?appid=63090c51683d92af2f27efbeeed9ed99&units=metric&q=jeremie,ht\n",
      "http://api.openweathermap.org/data/2.5/weather?appid=63090c51683d92af2f27efbeeed9ed99&units=metric&q=jiaozuo,cn\n",
      "Key Error City Not Used\n",
      "http://api.openweathermap.org/data/2.5/weather?appid=63090c51683d92af2f27efbeeed9ed99&units=metric&q=jinotega,ni\n",
      "http://api.openweathermap.org/data/2.5/weather?appid=63090c51683d92af2f27efbeeed9ed99&units=metric&q=joshimath,in\n",
      "http://api.openweathermap.org/data/2.5/weather?appid=63090c51683d92af2f27efbeeed9ed99&units=metric&q=juneau,us\n",
      "http://api.openweathermap.org/data/2.5/weather?appid=63090c51683d92af2f27efbeeed9ed99&units=metric&q=kabalo,cd\n",
      "Key Error City Not Used\n",
      "http://api.openweathermap.org/data/2.5/weather?appid=63090c51683d92af2f27efbeeed9ed99&units=metric&q=kahului,us\n",
      "Key Error City Not Used\n",
      "Key Error City Not Used\n",
      "http://api.openweathermap.org/data/2.5/weather?appid=63090c51683d92af2f27efbeeed9ed99&units=metric&q=kampot,kh\n",
      "http://api.openweathermap.org/data/2.5/weather?appid=63090c51683d92af2f27efbeeed9ed99&units=metric&q=kangaatsiaq,gl\n",
      "http://api.openweathermap.org/data/2.5/weather?appid=63090c51683d92af2f27efbeeed9ed99&units=metric&q=kapaa,us\n",
      "Key Error City Not Used\n",
      "Key Error City Not Used\n",
      "http://api.openweathermap.org/data/2.5/weather?appid=63090c51683d92af2f27efbeeed9ed99&units=metric&q=kargasok,ru\n"
     ]
    },
    {
     "name": "stdout",
     "output_type": "stream",
     "text": [
      "http://api.openweathermap.org/data/2.5/weather?appid=63090c51683d92af2f27efbeeed9ed99&units=metric&q=karpogory,ru\n",
      "http://api.openweathermap.org/data/2.5/weather?appid=63090c51683d92af2f27efbeeed9ed99&units=metric&q=kastornoye,ru\n",
      "http://api.openweathermap.org/data/2.5/weather?appid=63090c51683d92af2f27efbeeed9ed99&units=metric&q=katherine,au\n",
      "http://api.openweathermap.org/data/2.5/weather?appid=63090c51683d92af2f27efbeeed9ed99&units=metric&q=katsuura,jp\n",
      "http://api.openweathermap.org/data/2.5/weather?appid=63090c51683d92af2f27efbeeed9ed99&units=metric&q=kattivakkam,in\n",
      "http://api.openweathermap.org/data/2.5/weather?appid=63090c51683d92af2f27efbeeed9ed99&units=metric&q=kavieng,pg\n",
      "Key Error City Not Used\n",
      "http://api.openweathermap.org/data/2.5/weather?appid=63090c51683d92af2f27efbeeed9ed99&units=metric&q=keetmanshoop,na\n",
      "http://api.openweathermap.org/data/2.5/weather?appid=63090c51683d92af2f27efbeeed9ed99&units=metric&q=ketchikan,us\n",
      "http://api.openweathermap.org/data/2.5/weather?appid=63090c51683d92af2f27efbeeed9ed99&units=metric&q=khandbari,np\n",
      "http://api.openweathermap.org/data/2.5/weather?appid=63090c51683d92af2f27efbeeed9ed99&units=metric&q=kharan,pk\n",
      "http://api.openweathermap.org/data/2.5/weather?appid=63090c51683d92af2f27efbeeed9ed99&units=metric&q=khatanga,ru\n",
      "http://api.openweathermap.org/data/2.5/weather?appid=63090c51683d92af2f27efbeeed9ed99&units=metric&q=kirakira,sb\n",
      "http://api.openweathermap.org/data/2.5/weather?appid=63090c51683d92af2f27efbeeed9ed99&units=metric&q=kiunga,pg\n",
      "Key Error City Not Used\n",
      "http://api.openweathermap.org/data/2.5/weather?appid=63090c51683d92af2f27efbeeed9ed99&units=metric&q=kloulklubed,pw\n",
      "http://api.openweathermap.org/data/2.5/weather?appid=63090c51683d92af2f27efbeeed9ed99&units=metric&q=kodiak,us\n",
      "http://api.openweathermap.org/data/2.5/weather?appid=63090c51683d92af2f27efbeeed9ed99&units=metric&q=kokopo,pg\n",
      "http://api.openweathermap.org/data/2.5/weather?appid=63090c51683d92af2f27efbeeed9ed99&units=metric&q=komsomolsk,ru\n",
      "http://api.openweathermap.org/data/2.5/weather?appid=63090c51683d92af2f27efbeeed9ed99&units=metric&q=komsomolskiy,ru\n",
      "http://api.openweathermap.org/data/2.5/weather?appid=63090c51683d92af2f27efbeeed9ed99&units=metric&q=konstantinovka,ru\n",
      "http://api.openweathermap.org/data/2.5/weather?appid=63090c51683d92af2f27efbeeed9ed99&units=metric&q=kortkeros,ru\n",
      "http://api.openweathermap.org/data/2.5/weather?appid=63090c51683d92af2f27efbeeed9ed99&units=metric&q=koster,za\n",
      "http://api.openweathermap.org/data/2.5/weather?appid=63090c51683d92af2f27efbeeed9ed99&units=metric&q=koygorodok,ru\n",
      "http://api.openweathermap.org/data/2.5/weather?appid=63090c51683d92af2f27efbeeed9ed99&units=metric&q=kozhva,ru\n",
      "Key Error City Not Used\n",
      "http://api.openweathermap.org/data/2.5/weather?appid=63090c51683d92af2f27efbeeed9ed99&units=metric&q=krasnyy oktyabr,ru\n",
      "http://api.openweathermap.org/data/2.5/weather?appid=63090c51683d92af2f27efbeeed9ed99&units=metric&q=kropotkin,ru\n",
      "http://api.openweathermap.org/data/2.5/weather?appid=63090c51683d92af2f27efbeeed9ed99&units=metric&q=kruisfontein,za\n",
      "http://api.openweathermap.org/data/2.5/weather?appid=63090c51683d92af2f27efbeeed9ed99&units=metric&q=kuah,my\n",
      "http://api.openweathermap.org/data/2.5/weather?appid=63090c51683d92af2f27efbeeed9ed99&units=metric&q=kuala terengganu,my\n",
      "http://api.openweathermap.org/data/2.5/weather?appid=63090c51683d92af2f27efbeeed9ed99&units=metric&q=kuldur,ru\n",
      "http://api.openweathermap.org/data/2.5/weather?appid=63090c51683d92af2f27efbeeed9ed99&units=metric&q=kulhudhuffushi,mv\n",
      "http://api.openweathermap.org/data/2.5/weather?appid=63090c51683d92af2f27efbeeed9ed99&units=metric&q=kyaiklat,mm\n",
      "http://api.openweathermap.org/data/2.5/weather?appid=63090c51683d92af2f27efbeeed9ed99&units=metric&q=labuan,my\n",
      "http://api.openweathermap.org/data/2.5/weather?appid=63090c51683d92af2f27efbeeed9ed99&units=metric&q=lagoa,pt\n",
      "http://api.openweathermap.org/data/2.5/weather?appid=63090c51683d92af2f27efbeeed9ed99&units=metric&q=lagos,ng\n",
      "http://api.openweathermap.org/data/2.5/weather?appid=63090c51683d92af2f27efbeeed9ed99&units=metric&q=laguna,br\n",
      "Key Error City Not Used\n",
      "Key Error City Not Used\n",
      "http://api.openweathermap.org/data/2.5/weather?appid=63090c51683d92af2f27efbeeed9ed99&units=metric&q=lashio,mm\n",
      "Key Error City Not Used\n",
      "http://api.openweathermap.org/data/2.5/weather?appid=63090c51683d92af2f27efbeeed9ed99&units=metric&q=lavrentiya,ru\n",
      "http://api.openweathermap.org/data/2.5/weather?appid=63090c51683d92af2f27efbeeed9ed99&units=metric&q=lazaro cardenas,mx\n",
      "http://api.openweathermap.org/data/2.5/weather?appid=63090c51683d92af2f27efbeeed9ed99&units=metric&q=lebu,cl\n",
      "http://api.openweathermap.org/data/2.5/weather?appid=63090c51683d92af2f27efbeeed9ed99&units=metric&q=leningradskiy,ru\n",
      "http://api.openweathermap.org/data/2.5/weather?appid=63090c51683d92af2f27efbeeed9ed99&units=metric&q=lerwick,gb\n",
      "http://api.openweathermap.org/data/2.5/weather?appid=63090c51683d92af2f27efbeeed9ed99&units=metric&q=leshukonskoye,ru\n",
      "http://api.openweathermap.org/data/2.5/weather?appid=63090c51683d92af2f27efbeeed9ed99&units=metric&q=lexington park,us\n",
      "Key Error City Not Used\n",
      "http://api.openweathermap.org/data/2.5/weather?appid=63090c51683d92af2f27efbeeed9ed99&units=metric&q=litovko,ru\n",
      "http://api.openweathermap.org/data/2.5/weather?appid=63090c51683d92af2f27efbeeed9ed99&units=metric&q=lompoc,us\n",
      "http://api.openweathermap.org/data/2.5/weather?appid=63090c51683d92af2f27efbeeed9ed99&units=metric&q=longyearbyen,sj\n",
      "http://api.openweathermap.org/data/2.5/weather?appid=63090c51683d92af2f27efbeeed9ed99&units=metric&q=lorengau,pg\n",
      "http://api.openweathermap.org/data/2.5/weather?appid=63090c51683d92af2f27efbeeed9ed99&units=metric&q=los llanos de aridane,es\n",
      "http://api.openweathermap.org/data/2.5/weather?appid=63090c51683d92af2f27efbeeed9ed99&units=metric&q=luderitz,na\n",
      "http://api.openweathermap.org/data/2.5/weather?appid=63090c51683d92af2f27efbeeed9ed99&units=metric&q=luganville,vu\n",
      "http://api.openweathermap.org/data/2.5/weather?appid=63090c51683d92af2f27efbeeed9ed99&units=metric&q=lukulu,zm\n",
      "http://api.openweathermap.org/data/2.5/weather?appid=63090c51683d92af2f27efbeeed9ed99&units=metric&q=lyubech,ua\n",
      "http://api.openweathermap.org/data/2.5/weather?appid=63090c51683d92af2f27efbeeed9ed99&units=metric&q=mae hong son,th\n",
      "http://api.openweathermap.org/data/2.5/weather?appid=63090c51683d92af2f27efbeeed9ed99&units=metric&q=mahajanga,mg\n",
      "http://api.openweathermap.org/data/2.5/weather?appid=63090c51683d92af2f27efbeeed9ed99&units=metric&q=mahebourg,mu\n",
      "http://api.openweathermap.org/data/2.5/weather?appid=63090c51683d92af2f27efbeeed9ed99&units=metric&q=maicao,co\n",
      "http://api.openweathermap.org/data/2.5/weather?appid=63090c51683d92af2f27efbeeed9ed99&units=metric&q=makaha,us\n",
      "http://api.openweathermap.org/data/2.5/weather?appid=63090c51683d92af2f27efbeeed9ed99&units=metric&q=mana,gf\n",
      "http://api.openweathermap.org/data/2.5/weather?appid=63090c51683d92af2f27efbeeed9ed99&units=metric&q=mandal,in\n",
      "http://api.openweathermap.org/data/2.5/weather?appid=63090c51683d92af2f27efbeeed9ed99&units=metric&q=manga,br\n",
      "http://api.openweathermap.org/data/2.5/weather?appid=63090c51683d92af2f27efbeeed9ed99&units=metric&q=mangan,in\n",
      "http://api.openweathermap.org/data/2.5/weather?appid=63090c51683d92af2f27efbeeed9ed99&units=metric&q=manggar,id\n",
      "http://api.openweathermap.org/data/2.5/weather?appid=63090c51683d92af2f27efbeeed9ed99&units=metric&q=manokwari,id\n",
      "http://api.openweathermap.org/data/2.5/weather?appid=63090c51683d92af2f27efbeeed9ed99&units=metric&q=mantua,cu\n",
      "http://api.openweathermap.org/data/2.5/weather?appid=63090c51683d92af2f27efbeeed9ed99&units=metric&q=mar del plata,ar\n",
      "http://api.openweathermap.org/data/2.5/weather?appid=63090c51683d92af2f27efbeeed9ed99&units=metric&q=marang,my\n",
      "http://api.openweathermap.org/data/2.5/weather?appid=63090c51683d92af2f27efbeeed9ed99&units=metric&q=marawi,sd\n",
      "http://api.openweathermap.org/data/2.5/weather?appid=63090c51683d92af2f27efbeeed9ed99&units=metric&q=marijampole,lt\n",
      "http://api.openweathermap.org/data/2.5/weather?appid=63090c51683d92af2f27efbeeed9ed99&units=metric&q=marsa matruh,eg\n",
      "http://api.openweathermap.org/data/2.5/weather?appid=63090c51683d92af2f27efbeeed9ed99&units=metric&q=marsh harbour,bs\n",
      "http://api.openweathermap.org/data/2.5/weather?appid=63090c51683d92af2f27efbeeed9ed99&units=metric&q=mashivka,ua\n",
      "Key Error City Not Used\n"
     ]
    },
    {
     "name": "stdout",
     "output_type": "stream",
     "text": [
      "http://api.openweathermap.org/data/2.5/weather?appid=63090c51683d92af2f27efbeeed9ed99&units=metric&q=maubeuge,fr\n",
      "http://api.openweathermap.org/data/2.5/weather?appid=63090c51683d92af2f27efbeeed9ed99&units=metric&q=mayo,ca\n",
      "Key Error City Not Used\n",
      "http://api.openweathermap.org/data/2.5/weather?appid=63090c51683d92af2f27efbeeed9ed99&units=metric&q=menongue,ao\n",
      "http://api.openweathermap.org/data/2.5/weather?appid=63090c51683d92af2f27efbeeed9ed99&units=metric&q=meulaboh,id\n",
      "http://api.openweathermap.org/data/2.5/weather?appid=63090c51683d92af2f27efbeeed9ed99&units=metric&q=micheweni,tz\n",
      "http://api.openweathermap.org/data/2.5/weather?appid=63090c51683d92af2f27efbeeed9ed99&units=metric&q=miraflores,co\n",
      "http://api.openweathermap.org/data/2.5/weather?appid=63090c51683d92af2f27efbeeed9ed99&units=metric&q=miranda,br\n",
      "http://api.openweathermap.org/data/2.5/weather?appid=63090c51683d92af2f27efbeeed9ed99&units=metric&q=mitu,co\n",
      "http://api.openweathermap.org/data/2.5/weather?appid=63090c51683d92af2f27efbeeed9ed99&units=metric&q=mizdah,ly\n",
      "Key Error City Not Used\n",
      "http://api.openweathermap.org/data/2.5/weather?appid=63090c51683d92af2f27efbeeed9ed99&units=metric&q=moerai,pf\n",
      "http://api.openweathermap.org/data/2.5/weather?appid=63090c51683d92af2f27efbeeed9ed99&units=metric&q=mogadishu,so\n",
      "Key Error City Not Used\n",
      "Key Error City Not Used\n",
      "http://api.openweathermap.org/data/2.5/weather?appid=63090c51683d92af2f27efbeeed9ed99&units=metric&q=morales,co\n",
      "http://api.openweathermap.org/data/2.5/weather?appid=63090c51683d92af2f27efbeeed9ed99&units=metric&q=morelia,mx\n",
      "http://api.openweathermap.org/data/2.5/weather?appid=63090c51683d92af2f27efbeeed9ed99&units=metric&q=morwa,in\n",
      "http://api.openweathermap.org/data/2.5/weather?appid=63090c51683d92af2f27efbeeed9ed99&units=metric&q=mount gambier,au\n",
      "http://api.openweathermap.org/data/2.5/weather?appid=63090c51683d92af2f27efbeeed9ed99&units=metric&q=mount isa,au\n",
      "http://api.openweathermap.org/data/2.5/weather?appid=63090c51683d92af2f27efbeeed9ed99&units=metric&q=mozarlandia,br\n",
      "http://api.openweathermap.org/data/2.5/weather?appid=63090c51683d92af2f27efbeeed9ed99&units=metric&q=mulchen,cl\n",
      "Key Error City Not Used\n",
      "Key Error City Not Used\n",
      "http://api.openweathermap.org/data/2.5/weather?appid=63090c51683d92af2f27efbeeed9ed99&units=metric&q=nagorsk,ru\n",
      "http://api.openweathermap.org/data/2.5/weather?appid=63090c51683d92af2f27efbeeed9ed99&units=metric&q=najran,sa\n",
      "http://api.openweathermap.org/data/2.5/weather?appid=63090c51683d92af2f27efbeeed9ed99&units=metric&q=nakonde,zm\n",
      "http://api.openweathermap.org/data/2.5/weather?appid=63090c51683d92af2f27efbeeed9ed99&units=metric&q=namibe,ao\n",
      "http://api.openweathermap.org/data/2.5/weather?appid=63090c51683d92af2f27efbeeed9ed99&units=metric&q=nanortalik,gl\n",
      "http://api.openweathermap.org/data/2.5/weather?appid=63090c51683d92af2f27efbeeed9ed99&units=metric&q=nantucket,us\n",
      "Key Error City Not Used\n",
      "http://api.openweathermap.org/data/2.5/weather?appid=63090c51683d92af2f27efbeeed9ed99&units=metric&q=narsaq,gl\n",
      "http://api.openweathermap.org/data/2.5/weather?appid=63090c51683d92af2f27efbeeed9ed99&units=metric&q=naze,jp\n",
      "http://api.openweathermap.org/data/2.5/weather?appid=63090c51683d92af2f27efbeeed9ed99&units=metric&q=necochea,ar\n",
      "http://api.openweathermap.org/data/2.5/weather?appid=63090c51683d92af2f27efbeeed9ed99&units=metric&q=new norfolk,au\n",
      "http://api.openweathermap.org/data/2.5/weather?appid=63090c51683d92af2f27efbeeed9ed99&units=metric&q=ngunguru,nz\n",
      "http://api.openweathermap.org/data/2.5/weather?appid=63090c51683d92af2f27efbeeed9ed99&units=metric&q=nha trang,vn\n",
      "http://api.openweathermap.org/data/2.5/weather?appid=63090c51683d92af2f27efbeeed9ed99&units=metric&q=nhulunbuy,au\n",
      "Key Error City Not Used\n",
      "Key Error City Not Used\n",
      "http://api.openweathermap.org/data/2.5/weather?appid=63090c51683d92af2f27efbeeed9ed99&units=metric&q=nisia floresta,br\n",
      "Key Error City Not Used\n",
      "http://api.openweathermap.org/data/2.5/weather?appid=63090c51683d92af2f27efbeeed9ed99&units=metric&q=nizhniy ingash,ru\n",
      "http://api.openweathermap.org/data/2.5/weather?appid=63090c51683d92af2f27efbeeed9ed99&units=metric&q=nome,us\n",
      "http://api.openweathermap.org/data/2.5/weather?appid=63090c51683d92af2f27efbeeed9ed99&units=metric&q=norman wells,ca\n",
      "http://api.openweathermap.org/data/2.5/weather?appid=63090c51683d92af2f27efbeeed9ed99&units=metric&q=noumea,nc\n",
      "http://api.openweathermap.org/data/2.5/weather?appid=63090c51683d92af2f27efbeeed9ed99&units=metric&q=novyy svit,ua\n",
      "http://api.openweathermap.org/data/2.5/weather?appid=63090c51683d92af2f27efbeeed9ed99&units=metric&q=nueva gerona,cu\n",
      "http://api.openweathermap.org/data/2.5/weather?appid=63090c51683d92af2f27efbeeed9ed99&units=metric&q=nyurba,ru\n",
      "http://api.openweathermap.org/data/2.5/weather?appid=63090c51683d92af2f27efbeeed9ed99&units=metric&q=ochakiv,ua\n",
      "http://api.openweathermap.org/data/2.5/weather?appid=63090c51683d92af2f27efbeeed9ed99&units=metric&q=ocos,gt\n",
      "http://api.openweathermap.org/data/2.5/weather?appid=63090c51683d92af2f27efbeeed9ed99&units=metric&q=okha,ru\n",
      "http://api.openweathermap.org/data/2.5/weather?appid=63090c51683d92af2f27efbeeed9ed99&units=metric&q=okhotsk,ru\n",
      "Key Error City Not Used\n",
      "http://api.openweathermap.org/data/2.5/weather?appid=63090c51683d92af2f27efbeeed9ed99&units=metric&q=olinda,br\n",
      "http://api.openweathermap.org/data/2.5/weather?appid=63090c51683d92af2f27efbeeed9ed99&units=metric&q=onalaska,us\n",
      "http://api.openweathermap.org/data/2.5/weather?appid=63090c51683d92af2f27efbeeed9ed99&units=metric&q=opuwo,na\n",
      "http://api.openweathermap.org/data/2.5/weather?appid=63090c51683d92af2f27efbeeed9ed99&units=metric&q=orzinuovi,it\n",
      "http://api.openweathermap.org/data/2.5/weather?appid=63090c51683d92af2f27efbeeed9ed99&units=metric&q=ostrovnoy,ru\n",
      "http://api.openweathermap.org/data/2.5/weather?appid=63090c51683d92af2f27efbeeed9ed99&units=metric&q=otuzco,pe\n",
      "http://api.openweathermap.org/data/2.5/weather?appid=63090c51683d92af2f27efbeeed9ed99&units=metric&q=oum hadjer,td\n",
      "http://api.openweathermap.org/data/2.5/weather?appid=63090c51683d92af2f27efbeeed9ed99&units=metric&q=pacifica,us\n",
      "http://api.openweathermap.org/data/2.5/weather?appid=63090c51683d92af2f27efbeeed9ed99&units=metric&q=padang,id\n",
      "http://api.openweathermap.org/data/2.5/weather?appid=63090c51683d92af2f27efbeeed9ed99&units=metric&q=paita,pe\n",
      "Key Error City Not Used\n",
      "http://api.openweathermap.org/data/2.5/weather?appid=63090c51683d92af2f27efbeeed9ed99&units=metric&q=palakkad,in\n",
      "http://api.openweathermap.org/data/2.5/weather?appid=63090c51683d92af2f27efbeeed9ed99&units=metric&q=palmer,us\n",
      "http://api.openweathermap.org/data/2.5/weather?appid=63090c51683d92af2f27efbeeed9ed99&units=metric&q=palu,id\n",
      "http://api.openweathermap.org/data/2.5/weather?appid=63090c51683d92af2f27efbeeed9ed99&units=metric&q=paracuru,br\n",
      "http://api.openweathermap.org/data/2.5/weather?appid=63090c51683d92af2f27efbeeed9ed99&units=metric&q=pascagoula,us\n",
      "http://api.openweathermap.org/data/2.5/weather?appid=63090c51683d92af2f27efbeeed9ed99&units=metric&q=paso de los toros,uy\n",
      "Key Error City Not Used\n",
      "http://api.openweathermap.org/data/2.5/weather?appid=63090c51683d92af2f27efbeeed9ed99&units=metric&q=pavlovka,ru\n",
      "http://api.openweathermap.org/data/2.5/weather?appid=63090c51683d92af2f27efbeeed9ed99&units=metric&q=payson,us\n",
      "http://api.openweathermap.org/data/2.5/weather?appid=63090c51683d92af2f27efbeeed9ed99&units=metric&q=peace river,ca\n",
      "http://api.openweathermap.org/data/2.5/weather?appid=63090c51683d92af2f27efbeeed9ed99&units=metric&q=peniche,pt\n",
      "http://api.openweathermap.org/data/2.5/weather?appid=63090c51683d92af2f27efbeeed9ed99&units=metric&q=peterhead,gb\n",
      "http://api.openweathermap.org/data/2.5/weather?appid=63090c51683d92af2f27efbeeed9ed99&units=metric&q=petropavlovsk-kamchatskiy,ru\n",
      "http://api.openweathermap.org/data/2.5/weather?appid=63090c51683d92af2f27efbeeed9ed99&units=metric&q=pevek,ru\n",
      "http://api.openweathermap.org/data/2.5/weather?appid=63090c51683d92af2f27efbeeed9ed99&units=metric&q=phek,in\n",
      "Key Error City Not Used\n",
      "http://api.openweathermap.org/data/2.5/weather?appid=63090c51683d92af2f27efbeeed9ed99&units=metric&q=pisco,pe\n",
      "http://api.openweathermap.org/data/2.5/weather?appid=63090c51683d92af2f27efbeeed9ed99&units=metric&q=plettenberg bay,za\n",
      "Key Error City Not Used\n",
      "http://api.openweathermap.org/data/2.5/weather?appid=63090c51683d92af2f27efbeeed9ed99&units=metric&q=ponta do sol,cv\n"
     ]
    },
    {
     "name": "stdout",
     "output_type": "stream",
     "text": [
      "http://api.openweathermap.org/data/2.5/weather?appid=63090c51683d92af2f27efbeeed9ed99&units=metric&q=ponta do sol,pt\n",
      "http://api.openweathermap.org/data/2.5/weather?appid=63090c51683d92af2f27efbeeed9ed99&units=metric&q=port alfred,za\n",
      "http://api.openweathermap.org/data/2.5/weather?appid=63090c51683d92af2f27efbeeed9ed99&units=metric&q=port arthur,us\n",
      "http://api.openweathermap.org/data/2.5/weather?appid=63090c51683d92af2f27efbeeed9ed99&units=metric&q=port blair,in\n",
      "http://api.openweathermap.org/data/2.5/weather?appid=63090c51683d92af2f27efbeeed9ed99&units=metric&q=port elizabeth,za\n",
      "http://api.openweathermap.org/data/2.5/weather?appid=63090c51683d92af2f27efbeeed9ed99&units=metric&q=port hardy,ca\n",
      "http://api.openweathermap.org/data/2.5/weather?appid=63090c51683d92af2f27efbeeed9ed99&units=metric&q=port hawkesbury,ca\n",
      "http://api.openweathermap.org/data/2.5/weather?appid=63090c51683d92af2f27efbeeed9ed99&units=metric&q=port lincoln,au\n",
      "http://api.openweathermap.org/data/2.5/weather?appid=63090c51683d92af2f27efbeeed9ed99&units=metric&q=port-cartier,ca\n",
      "http://api.openweathermap.org/data/2.5/weather?appid=63090c51683d92af2f27efbeeed9ed99&units=metric&q=porto novo,cv\n",
      "http://api.openweathermap.org/data/2.5/weather?appid=63090c51683d92af2f27efbeeed9ed99&units=metric&q=poum,nc\n",
      "http://api.openweathermap.org/data/2.5/weather?appid=63090c51683d92af2f27efbeeed9ed99&units=metric&q=pout,sn\n",
      "http://api.openweathermap.org/data/2.5/weather?appid=63090c51683d92af2f27efbeeed9ed99&units=metric&q=prince rupert,ca\n",
      "http://api.openweathermap.org/data/2.5/weather?appid=63090c51683d92af2f27efbeeed9ed99&units=metric&q=provideniya,ru\n",
      "http://api.openweathermap.org/data/2.5/weather?appid=63090c51683d92af2f27efbeeed9ed99&units=metric&q=pucallpa,pe\n",
      "http://api.openweathermap.org/data/2.5/weather?appid=63090c51683d92af2f27efbeeed9ed99&units=metric&q=puerto ayora,ec\n",
      "http://api.openweathermap.org/data/2.5/weather?appid=63090c51683d92af2f27efbeeed9ed99&units=metric&q=puerto escondido,mx\n",
      "http://api.openweathermap.org/data/2.5/weather?appid=63090c51683d92af2f27efbeeed9ed99&units=metric&q=pultusk,pl\n",
      "http://api.openweathermap.org/data/2.5/weather?appid=63090c51683d92af2f27efbeeed9ed99&units=metric&q=punta arenas,cl\n",
      "http://api.openweathermap.org/data/2.5/weather?appid=63090c51683d92af2f27efbeeed9ed99&units=metric&q=puri,in\n",
      "http://api.openweathermap.org/data/2.5/weather?appid=63090c51683d92af2f27efbeeed9ed99&units=metric&q=qaanaaq,gl\n",
      "http://api.openweathermap.org/data/2.5/weather?appid=63090c51683d92af2f27efbeeed9ed99&units=metric&q=qaqortoq,gl\n",
      "http://api.openweathermap.org/data/2.5/weather?appid=63090c51683d92af2f27efbeeed9ed99&units=metric&q=qasigiannguit,gl\n",
      "http://api.openweathermap.org/data/2.5/weather?appid=63090c51683d92af2f27efbeeed9ed99&units=metric&q=quatre cocos,mu\n",
      "http://api.openweathermap.org/data/2.5/weather?appid=63090c51683d92af2f27efbeeed9ed99&units=metric&q=rancho palos verdes,us\n",
      "Key Error City Not Used\n",
      "http://api.openweathermap.org/data/2.5/weather?appid=63090c51683d92af2f27efbeeed9ed99&units=metric&q=rawson,ar\n",
      "http://api.openweathermap.org/data/2.5/weather?appid=63090c51683d92af2f27efbeeed9ed99&units=metric&q=rayon,mx\n",
      "http://api.openweathermap.org/data/2.5/weather?appid=63090c51683d92af2f27efbeeed9ed99&units=metric&q=redmond,us\n",
      "Key Error City Not Used\n",
      "http://api.openweathermap.org/data/2.5/weather?appid=63090c51683d92af2f27efbeeed9ed99&units=metric&q=rhyl,gb\n",
      "http://api.openweathermap.org/data/2.5/weather?appid=63090c51683d92af2f27efbeeed9ed99&units=metric&q=ribeira grande,pt\n",
      "http://api.openweathermap.org/data/2.5/weather?appid=63090c51683d92af2f27efbeeed9ed99&units=metric&q=rikitea,pf\n",
      "http://api.openweathermap.org/data/2.5/weather?appid=63090c51683d92af2f27efbeeed9ed99&units=metric&q=rio branco do sul,br\n",
      "http://api.openweathermap.org/data/2.5/weather?appid=63090c51683d92af2f27efbeeed9ed99&units=metric&q=rio gallegos,ar\n",
      "http://api.openweathermap.org/data/2.5/weather?appid=63090c51683d92af2f27efbeeed9ed99&units=metric&q=rio verde de mato grosso,br\n",
      "http://api.openweathermap.org/data/2.5/weather?appid=63090c51683d92af2f27efbeeed9ed99&units=metric&q=riyadh,sa\n",
      "http://api.openweathermap.org/data/2.5/weather?appid=63090c51683d92af2f27efbeeed9ed99&units=metric&q=rizhao,cn\n",
      "http://api.openweathermap.org/data/2.5/weather?appid=63090c51683d92af2f27efbeeed9ed99&units=metric&q=roald,no\n",
      "http://api.openweathermap.org/data/2.5/weather?appid=63090c51683d92af2f27efbeeed9ed99&units=metric&q=rocha,uy\n",
      "http://api.openweathermap.org/data/2.5/weather?appid=63090c51683d92af2f27efbeeed9ed99&units=metric&q=rockland,us\n",
      "http://api.openweathermap.org/data/2.5/weather?appid=63090c51683d92af2f27efbeeed9ed99&units=metric&q=roma,au\n",
      "http://api.openweathermap.org/data/2.5/weather?appid=63090c51683d92af2f27efbeeed9ed99&units=metric&q=rosamorada,mx\n",
      "Key Error City Not Used\n",
      "Key Error City Not Used\n",
      "http://api.openweathermap.org/data/2.5/weather?appid=63090c51683d92af2f27efbeeed9ed99&units=metric&q=sabang,id\n",
      "Key Error City Not Used\n",
      "http://api.openweathermap.org/data/2.5/weather?appid=63090c51683d92af2f27efbeeed9ed99&units=metric&q=saint george,bm\n",
      "http://api.openweathermap.org/data/2.5/weather?appid=63090c51683d92af2f27efbeeed9ed99&units=metric&q=saint-augustin,ca\n",
      "http://api.openweathermap.org/data/2.5/weather?appid=63090c51683d92af2f27efbeeed9ed99&units=metric&q=saint-joseph,re\n",
      "http://api.openweathermap.org/data/2.5/weather?appid=63090c51683d92af2f27efbeeed9ed99&units=metric&q=saint-philippe,re\n",
      "http://api.openweathermap.org/data/2.5/weather?appid=63090c51683d92af2f27efbeeed9ed99&units=metric&q=saint-pierre,pm\n",
      "http://api.openweathermap.org/data/2.5/weather?appid=63090c51683d92af2f27efbeeed9ed99&units=metric&q=salalah,om\n",
      "http://api.openweathermap.org/data/2.5/weather?appid=63090c51683d92af2f27efbeeed9ed99&units=metric&q=saldanha,za\n",
      "http://api.openweathermap.org/data/2.5/weather?appid=63090c51683d92af2f27efbeeed9ed99&units=metric&q=salinas,ec\n",
      "http://api.openweathermap.org/data/2.5/weather?appid=63090c51683d92af2f27efbeeed9ed99&units=metric&q=salinopolis,br\n",
      "Key Error City Not Used\n",
      "http://api.openweathermap.org/data/2.5/weather?appid=63090c51683d92af2f27efbeeed9ed99&units=metric&q=samarai,pg\n",
      "http://api.openweathermap.org/data/2.5/weather?appid=63090c51683d92af2f27efbeeed9ed99&units=metric&q=sambava,mg\n",
      "http://api.openweathermap.org/data/2.5/weather?appid=63090c51683d92af2f27efbeeed9ed99&units=metric&q=san cristobal,ec\n",
      "http://api.openweathermap.org/data/2.5/weather?appid=63090c51683d92af2f27efbeeed9ed99&units=metric&q=san patricio,mx\n",
      "http://api.openweathermap.org/data/2.5/weather?appid=63090c51683d92af2f27efbeeed9ed99&units=metric&q=san vicente,ar\n",
      "http://api.openweathermap.org/data/2.5/weather?appid=63090c51683d92af2f27efbeeed9ed99&units=metric&q=san vicente,ph\n",
      "http://api.openweathermap.org/data/2.5/weather?appid=63090c51683d92af2f27efbeeed9ed99&units=metric&q=sande,no\n",
      "http://api.openweathermap.org/data/2.5/weather?appid=63090c51683d92af2f27efbeeed9ed99&units=metric&q=santa rosa,bo\n",
      "http://api.openweathermap.org/data/2.5/weather?appid=63090c51683d92af2f27efbeeed9ed99&units=metric&q=sao filipe,cv\n",
      "http://api.openweathermap.org/data/2.5/weather?appid=63090c51683d92af2f27efbeeed9ed99&units=metric&q=sao geraldo do araguaia,br\n",
      "http://api.openweathermap.org/data/2.5/weather?appid=63090c51683d92af2f27efbeeed9ed99&units=metric&q=sao joao da barra,br\n",
      "http://api.openweathermap.org/data/2.5/weather?appid=63090c51683d92af2f27efbeeed9ed99&units=metric&q=sarangani,ph\n",
      "http://api.openweathermap.org/data/2.5/weather?appid=63090c51683d92af2f27efbeeed9ed99&units=metric&q=sarkand,kz\n",
      "http://api.openweathermap.org/data/2.5/weather?appid=63090c51683d92af2f27efbeeed9ed99&units=metric&q=saskylakh,ru\n",
      "http://api.openweathermap.org/data/2.5/weather?appid=63090c51683d92af2f27efbeeed9ed99&units=metric&q=satipo,pe\n",
      "http://api.openweathermap.org/data/2.5/weather?appid=63090c51683d92af2f27efbeeed9ed99&units=metric&q=savannah bight,hn\n",
      "http://api.openweathermap.org/data/2.5/weather?appid=63090c51683d92af2f27efbeeed9ed99&units=metric&q=sechura,pe\n",
      "http://api.openweathermap.org/data/2.5/weather?appid=63090c51683d92af2f27efbeeed9ed99&units=metric&q=seguin,us\n",
      "http://api.openweathermap.org/data/2.5/weather?appid=63090c51683d92af2f27efbeeed9ed99&units=metric&q=semypolky,ua\n",
      "Key Error City Not Used\n"
     ]
    },
    {
     "name": "stdout",
     "output_type": "stream",
     "text": [
      "http://api.openweathermap.org/data/2.5/weather?appid=63090c51683d92af2f27efbeeed9ed99&units=metric&q=seoul,kr\n",
      "http://api.openweathermap.org/data/2.5/weather?appid=63090c51683d92af2f27efbeeed9ed99&units=metric&q=severo-kurilsk,ru\n",
      "http://api.openweathermap.org/data/2.5/weather?appid=63090c51683d92af2f27efbeeed9ed99&units=metric&q=shache,cn\n",
      "http://api.openweathermap.org/data/2.5/weather?appid=63090c51683d92af2f27efbeeed9ed99&units=metric&q=shahpur,in\n",
      "http://api.openweathermap.org/data/2.5/weather?appid=63090c51683d92af2f27efbeeed9ed99&units=metric&q=sharjah,ae\n",
      "http://api.openweathermap.org/data/2.5/weather?appid=63090c51683d92af2f27efbeeed9ed99&units=metric&q=shibetsu,jp\n",
      "http://api.openweathermap.org/data/2.5/weather?appid=63090c51683d92af2f27efbeeed9ed99&units=metric&q=shirokiy,ru\n",
      "http://api.openweathermap.org/data/2.5/weather?appid=63090c51683d92af2f27efbeeed9ed99&units=metric&q=shubarkuduk,kz\n",
      "http://api.openweathermap.org/data/2.5/weather?appid=63090c51683d92af2f27efbeeed9ed99&units=metric&q=sinnamary,gf\n",
      "Key Error City Not Used\n",
      "http://api.openweathermap.org/data/2.5/weather?appid=63090c51683d92af2f27efbeeed9ed99&units=metric&q=sistranda,no\n",
      "http://api.openweathermap.org/data/2.5/weather?appid=63090c51683d92af2f27efbeeed9ed99&units=metric&q=sitka,us\n",
      "http://api.openweathermap.org/data/2.5/weather?appid=63090c51683d92af2f27efbeeed9ed99&units=metric&q=skibbereen,ie\n",
      "http://api.openweathermap.org/data/2.5/weather?appid=63090c51683d92af2f27efbeeed9ed99&units=metric&q=smithers,ca\n",
      "http://api.openweathermap.org/data/2.5/weather?appid=63090c51683d92af2f27efbeeed9ed99&units=metric&q=snasa,no\n",
      "Key Error City Not Used\n",
      "http://api.openweathermap.org/data/2.5/weather?appid=63090c51683d92af2f27efbeeed9ed99&units=metric&q=souillac,mu\n",
      "http://api.openweathermap.org/data/2.5/weather?appid=63090c51683d92af2f27efbeeed9ed99&units=metric&q=sovetskiy,ru\n",
      "http://api.openweathermap.org/data/2.5/weather?appid=63090c51683d92af2f27efbeeed9ed99&units=metric&q=srednekolymsk,ru\n",
      "http://api.openweathermap.org/data/2.5/weather?appid=63090c51683d92af2f27efbeeed9ed99&units=metric&q=staritsa,ru\n",
      "http://api.openweathermap.org/data/2.5/weather?appid=63090c51683d92af2f27efbeeed9ed99&units=metric&q=staryy nadym,ru\n",
      "http://api.openweathermap.org/data/2.5/weather?appid=63090c51683d92af2f27efbeeed9ed99&units=metric&q=steamboat springs,us\n",
      "http://api.openweathermap.org/data/2.5/weather?appid=63090c51683d92af2f27efbeeed9ed99&units=metric&q=steinbach,ca\n",
      "http://api.openweathermap.org/data/2.5/weather?appid=63090c51683d92af2f27efbeeed9ed99&units=metric&q=storsteinnes,no\n",
      "http://api.openweathermap.org/data/2.5/weather?appid=63090c51683d92af2f27efbeeed9ed99&units=metric&q=suicheng,cn\n",
      "http://api.openweathermap.org/data/2.5/weather?appid=63090c51683d92af2f27efbeeed9ed99&units=metric&q=sun city west,us\n",
      "http://api.openweathermap.org/data/2.5/weather?appid=63090c51683d92af2f27efbeeed9ed99&units=metric&q=sungaipenuh,id\n",
      "http://api.openweathermap.org/data/2.5/weather?appid=63090c51683d92af2f27efbeeed9ed99&units=metric&q=sur,om\n",
      "Key Error City Not Used\n",
      "http://api.openweathermap.org/data/2.5/weather?appid=63090c51683d92af2f27efbeeed9ed99&units=metric&q=tabou,ci\n",
      "http://api.openweathermap.org/data/2.5/weather?appid=63090c51683d92af2f27efbeeed9ed99&units=metric&q=tabuk,sa\n",
      "http://api.openweathermap.org/data/2.5/weather?appid=63090c51683d92af2f27efbeeed9ed99&units=metric&q=tadine,nc\n",
      "http://api.openweathermap.org/data/2.5/weather?appid=63090c51683d92af2f27efbeeed9ed99&units=metric&q=tahe,cn\n",
      "http://api.openweathermap.org/data/2.5/weather?appid=63090c51683d92af2f27efbeeed9ed99&units=metric&q=tahlequah,us\n",
      "http://api.openweathermap.org/data/2.5/weather?appid=63090c51683d92af2f27efbeeed9ed99&units=metric&q=talaya,ru\n",
      "http://api.openweathermap.org/data/2.5/weather?appid=63090c51683d92af2f27efbeeed9ed99&units=metric&q=talcahuano,cl\n",
      "http://api.openweathermap.org/data/2.5/weather?appid=63090c51683d92af2f27efbeeed9ed99&units=metric&q=talnakh,ru\n",
      "http://api.openweathermap.org/data/2.5/weather?appid=63090c51683d92af2f27efbeeed9ed99&units=metric&q=tangara,br\n",
      "Key Error City Not Used\n",
      "http://api.openweathermap.org/data/2.5/weather?appid=63090c51683d92af2f27efbeeed9ed99&units=metric&q=taoudenni,ml\n",
      "http://api.openweathermap.org/data/2.5/weather?appid=63090c51683d92af2f27efbeeed9ed99&units=metric&q=tasiilaq,gl\n",
      "http://api.openweathermap.org/data/2.5/weather?appid=63090c51683d92af2f27efbeeed9ed99&units=metric&q=tawau,my\n",
      "http://api.openweathermap.org/data/2.5/weather?appid=63090c51683d92af2f27efbeeed9ed99&units=metric&q=tazovskiy,ru\n",
      "http://api.openweathermap.org/data/2.5/weather?appid=63090c51683d92af2f27efbeeed9ed99&units=metric&q=teguldet,ru\n",
      "http://api.openweathermap.org/data/2.5/weather?appid=63090c51683d92af2f27efbeeed9ed99&units=metric&q=terrace,ca\n",
      "http://api.openweathermap.org/data/2.5/weather?appid=63090c51683d92af2f27efbeeed9ed99&units=metric&q=tevaitoa,pf\n",
      "http://api.openweathermap.org/data/2.5/weather?appid=63090c51683d92af2f27efbeeed9ed99&units=metric&q=teya,ru\n",
      "http://api.openweathermap.org/data/2.5/weather?appid=63090c51683d92af2f27efbeeed9ed99&units=metric&q=thanh hoa,vn\n",
      "http://api.openweathermap.org/data/2.5/weather?appid=63090c51683d92af2f27efbeeed9ed99&units=metric&q=the valley,ai\n",
      "Key Error City Not Used\n",
      "http://api.openweathermap.org/data/2.5/weather?appid=63090c51683d92af2f27efbeeed9ed99&units=metric&q=thinadhoo,mv\n",
      "http://api.openweathermap.org/data/2.5/weather?appid=63090c51683d92af2f27efbeeed9ed99&units=metric&q=thompson,ca\n",
      "http://api.openweathermap.org/data/2.5/weather?appid=63090c51683d92af2f27efbeeed9ed99&units=metric&q=tiksi,ru\n",
      "http://api.openweathermap.org/data/2.5/weather?appid=63090c51683d92af2f27efbeeed9ed99&units=metric&q=tilichiki,ru\n",
      "http://api.openweathermap.org/data/2.5/weather?appid=63090c51683d92af2f27efbeeed9ed99&units=metric&q=tooele,us\n",
      "http://api.openweathermap.org/data/2.5/weather?appid=63090c51683d92af2f27efbeeed9ed99&units=metric&q=torbay,ca\n",
      "http://api.openweathermap.org/data/2.5/weather?appid=63090c51683d92af2f27efbeeed9ed99&units=metric&q=tornio,fi\n",
      "http://api.openweathermap.org/data/2.5/weather?appid=63090c51683d92af2f27efbeeed9ed99&units=metric&q=toropets,ru\n",
      "http://api.openweathermap.org/data/2.5/weather?appid=63090c51683d92af2f27efbeeed9ed99&units=metric&q=tortoli,it\n",
      "http://api.openweathermap.org/data/2.5/weather?appid=63090c51683d92af2f27efbeeed9ed99&units=metric&q=totness,sr\n",
      "http://api.openweathermap.org/data/2.5/weather?appid=63090c51683d92af2f27efbeeed9ed99&units=metric&q=touros,br\n",
      "http://api.openweathermap.org/data/2.5/weather?appid=63090c51683d92af2f27efbeeed9ed99&units=metric&q=trabzon,tr\n",
      "http://api.openweathermap.org/data/2.5/weather?appid=63090c51683d92af2f27efbeeed9ed99&units=metric&q=trairi,br\n",
      "Key Error City Not Used\n",
      "http://api.openweathermap.org/data/2.5/weather?appid=63090c51683d92af2f27efbeeed9ed99&units=metric&q=tsaratanana,mg\n",
      "Key Error City Not Used\n",
      "http://api.openweathermap.org/data/2.5/weather?appid=63090c51683d92af2f27efbeeed9ed99&units=metric&q=tual,id\n",
      "http://api.openweathermap.org/data/2.5/weather?appid=63090c51683d92af2f27efbeeed9ed99&units=metric&q=tuatapere,nz\n",
      "http://api.openweathermap.org/data/2.5/weather?appid=63090c51683d92af2f27efbeeed9ed99&units=metric&q=tuktoyaktuk,ca\n",
      "Key Error City Not Used\n",
      "http://api.openweathermap.org/data/2.5/weather?appid=63090c51683d92af2f27efbeeed9ed99&units=metric&q=turukhansk,ru\n",
      "http://api.openweathermap.org/data/2.5/weather?appid=63090c51683d92af2f27efbeeed9ed99&units=metric&q=tutoia,br\n",
      "http://api.openweathermap.org/data/2.5/weather?appid=63090c51683d92af2f27efbeeed9ed99&units=metric&q=udachnyy,ru\n",
      "http://api.openweathermap.org/data/2.5/weather?appid=63090c51683d92af2f27efbeeed9ed99&units=metric&q=ugoofaaru,mv\n",
      "http://api.openweathermap.org/data/2.5/weather?appid=63090c51683d92af2f27efbeeed9ed99&units=metric&q=ulaanbaatar,mn\n",
      "http://api.openweathermap.org/data/2.5/weather?appid=63090c51683d92af2f27efbeeed9ed99&units=metric&q=ulaangom,mn\n",
      "Key Error City Not Used\n",
      "http://api.openweathermap.org/data/2.5/weather?appid=63090c51683d92af2f27efbeeed9ed99&units=metric&q=upernavik,gl\n",
      "http://api.openweathermap.org/data/2.5/weather?appid=63090c51683d92af2f27efbeeed9ed99&units=metric&q=upington,za\n",
      "http://api.openweathermap.org/data/2.5/weather?appid=63090c51683d92af2f27efbeeed9ed99&units=metric&q=ushuaia,ar\n"
     ]
    },
    {
     "name": "stdout",
     "output_type": "stream",
     "text": [
      "http://api.openweathermap.org/data/2.5/weather?appid=63090c51683d92af2f27efbeeed9ed99&units=metric&q=usinsk,ru\n",
      "http://api.openweathermap.org/data/2.5/weather?appid=63090c51683d92af2f27efbeeed9ed99&units=metric&q=ust-kuyga,ru\n",
      "http://api.openweathermap.org/data/2.5/weather?appid=63090c51683d92af2f27efbeeed9ed99&units=metric&q=ust-maya,ru\n",
      "http://api.openweathermap.org/data/2.5/weather?appid=63090c51683d92af2f27efbeeed9ed99&units=metric&q=uusikaupunki,fi\n",
      "http://api.openweathermap.org/data/2.5/weather?appid=63090c51683d92af2f27efbeeed9ed99&units=metric&q=vaini,to\n",
      "http://api.openweathermap.org/data/2.5/weather?appid=63090c51683d92af2f27efbeeed9ed99&units=metric&q=vaitape,pf\n",
      "Key Error City Not Used\n",
      "http://api.openweathermap.org/data/2.5/weather?appid=63090c51683d92af2f27efbeeed9ed99&units=metric&q=vallenar,cl\n",
      "http://api.openweathermap.org/data/2.5/weather?appid=63090c51683d92af2f27efbeeed9ed99&units=metric&q=valparaiso,cl\n",
      "http://api.openweathermap.org/data/2.5/weather?appid=63090c51683d92af2f27efbeeed9ed99&units=metric&q=ventspils,lv\n",
      "http://api.openweathermap.org/data/2.5/weather?appid=63090c51683d92af2f27efbeeed9ed99&units=metric&q=verkhoyansk,ru\n",
      "http://api.openweathermap.org/data/2.5/weather?appid=63090c51683d92af2f27efbeeed9ed99&units=metric&q=victoria,sc\n",
      "http://api.openweathermap.org/data/2.5/weather?appid=63090c51683d92af2f27efbeeed9ed99&units=metric&q=vila franca do campo,pt\n",
      "http://api.openweathermap.org/data/2.5/weather?appid=63090c51683d92af2f27efbeeed9ed99&units=metric&q=vila velha,br\n",
      "http://api.openweathermap.org/data/2.5/weather?appid=63090c51683d92af2f27efbeeed9ed99&units=metric&q=villa altagracia,do\n",
      "http://api.openweathermap.org/data/2.5/weather?appid=63090c51683d92af2f27efbeeed9ed99&units=metric&q=vostok,ru\n",
      "http://api.openweathermap.org/data/2.5/weather?appid=63090c51683d92af2f27efbeeed9ed99&units=metric&q=vyazemskiy,ru\n",
      "http://api.openweathermap.org/data/2.5/weather?appid=63090c51683d92af2f27efbeeed9ed99&units=metric&q=waipawa,nz\n",
      "http://api.openweathermap.org/data/2.5/weather?appid=63090c51683d92af2f27efbeeed9ed99&units=metric&q=wanning,cn\n",
      "http://api.openweathermap.org/data/2.5/weather?appid=63090c51683d92af2f27efbeeed9ed99&units=metric&q=ware,us\n",
      "http://api.openweathermap.org/data/2.5/weather?appid=63090c51683d92af2f27efbeeed9ed99&units=metric&q=wennigsen,de\n",
      "http://api.openweathermap.org/data/2.5/weather?appid=63090c51683d92af2f27efbeeed9ed99&units=metric&q=westport,ie\n",
      "http://api.openweathermap.org/data/2.5/weather?appid=63090c51683d92af2f27efbeeed9ed99&units=metric&q=wheatley,ca\n",
      "http://api.openweathermap.org/data/2.5/weather?appid=63090c51683d92af2f27efbeeed9ed99&units=metric&q=whitianga,nz\n",
      "http://api.openweathermap.org/data/2.5/weather?appid=63090c51683d92af2f27efbeeed9ed99&units=metric&q=whyalla,au\n",
      "Key Error City Not Used\n",
      "http://api.openweathermap.org/data/2.5/weather?appid=63090c51683d92af2f27efbeeed9ed99&units=metric&q=xuddur,so\n",
      "http://api.openweathermap.org/data/2.5/weather?appid=63090c51683d92af2f27efbeeed9ed99&units=metric&q=yafran,ly\n",
      "http://api.openweathermap.org/data/2.5/weather?appid=63090c51683d92af2f27efbeeed9ed99&units=metric&q=yanam,in\n",
      "Key Error City Not Used\n",
      "http://api.openweathermap.org/data/2.5/weather?appid=63090c51683d92af2f27efbeeed9ed99&units=metric&q=yangambi,cd\n",
      "http://api.openweathermap.org/data/2.5/weather?appid=63090c51683d92af2f27efbeeed9ed99&units=metric&q=yar-sale,ru\n",
      "http://api.openweathermap.org/data/2.5/weather?appid=63090c51683d92af2f27efbeeed9ed99&units=metric&q=yarada,in\n",
      "http://api.openweathermap.org/data/2.5/weather?appid=63090c51683d92af2f27efbeeed9ed99&units=metric&q=yarmouth,ca\n",
      "http://api.openweathermap.org/data/2.5/weather?appid=63090c51683d92af2f27efbeeed9ed99&units=metric&q=yashan,cn\n",
      "http://api.openweathermap.org/data/2.5/weather?appid=63090c51683d92af2f27efbeeed9ed99&units=metric&q=yellowknife,ca\n",
      "http://api.openweathermap.org/data/2.5/weather?appid=63090c51683d92af2f27efbeeed9ed99&units=metric&q=yilan,cn\n",
      "http://api.openweathermap.org/data/2.5/weather?appid=63090c51683d92af2f27efbeeed9ed99&units=metric&q=yorosso,ml\n",
      "http://api.openweathermap.org/data/2.5/weather?appid=63090c51683d92af2f27efbeeed9ed99&units=metric&q=yulara,au\n",
      "http://api.openweathermap.org/data/2.5/weather?appid=63090c51683d92af2f27efbeeed9ed99&units=metric&q=yunhe,cn\n",
      "http://api.openweathermap.org/data/2.5/weather?appid=63090c51683d92af2f27efbeeed9ed99&units=metric&q=zaozerne,ua\n",
      "http://api.openweathermap.org/data/2.5/weather?appid=63090c51683d92af2f27efbeeed9ed99&units=metric&q=zharkent,kz\n",
      "http://api.openweathermap.org/data/2.5/weather?appid=63090c51683d92af2f27efbeeed9ed99&units=metric&q=zhigansk,ru\n",
      "http://api.openweathermap.org/data/2.5/weather?appid=63090c51683d92af2f27efbeeed9ed99&units=metric&q=zhob,pk\n",
      "http://api.openweathermap.org/data/2.5/weather?appid=63090c51683d92af2f27efbeeed9ed99&units=metric&q=zhoucheng,cn\n"
     ]
    }
   ],
   "source": [
    "api_request_city = []\n",
    "api_request_country = []\n",
    "api_request_city_country = []\n",
    "weather_data = []\n",
    "humidity = []\n",
    "temperature = []\n",
    "wind_speed = []\n",
    "cloudiness = []\n",
    "latitude = []\n",
    "longitude = []\n",
    "city_unique_count = []\n",
    "\n",
    "for index, row in dfu_grouped_summary.iterrows():\n",
    "    query_url = url + \"appid=\" + api_key + \"&units=metric\" + \"&q=\" + (row[\"col\"])\n",
    "\n",
    "    weather_response2 = requests.get(query_url)\n",
    "    weather_json2 = weather_response2.json()\n",
    "\n",
    "    try:\n",
    "        wind_speed.append(weather_json2[\"wind\"][\"speed\"])\n",
    "        temperature.append(weather_json2[\"main\"][\"temp_max\"])\n",
    "        humidity.append(weather_json2[\"main\"][\"humidity\"])\n",
    "        cloudiness.append(weather_json2[\"clouds\"][\"all\"])\n",
    "        latitude.append(weather_json2[\"coord\"][\"lat\"])\n",
    "        longitude.append(weather_json2[\"coord\"][\"lon\"])\n",
    "        city_unique_count.append(name_country)\n",
    "        print(query_url)\n",
    "        \n",
    "    except KeyError:\n",
    "        \n",
    "        print(\"Key Error City Not Used\")"
   ]
  },
  {
   "cell_type": "code",
   "execution_count": 338,
   "metadata": {},
   "outputs": [
    {
     "name": "stdout",
     "output_type": "stream",
     "text": [
      "Number of plots = 535\n"
     ]
    }
   ],
   "source": [
    "#Count the number cities plotted\n",
    "number_of_plots = len(city_unique_count)\n",
    "print (\"Number of plots = \" + str(number_of_plots))"
   ]
  },
  {
   "cell_type": "markdown",
   "metadata": {},
   "source": [
    "# Latitude vs Temperature Plot"
   ]
  },
  {
   "cell_type": "code",
   "execution_count": 339,
   "metadata": {
    "collapsed": true
   },
   "outputs": [],
   "source": [
    "# Build a scatter plot for each data type\n",
    "import matplotlib.pyplot as plt\n",
    "plt.scatter(temperature, latitude, marker=\"o\")\n",
    "\n",
    "# Incorporate the other graph properties\n",
    "plt.title(\"City Latitude vs. Maximum Temperature\")\n",
    "plt.xlabel(\"Temperature (Celsius)\")\n",
    "plt.ylabel(\"Latitude\")\n",
    "plt.grid(True)"
   ]
  },
  {
   "cell_type": "code",
   "execution_count": 340,
   "metadata": {
    "collapsed": true
   },
   "outputs": [],
   "source": [
    "# Save the figure\n",
    "plt.savefig(\"City_Latitude_vs_Temperature.png\")"
   ]
  },
  {
   "cell_type": "code",
   "execution_count": 341,
   "metadata": {},
   "outputs": [
    {
     "data": {
      "image/png": "[encoded data removed]",
      "text/plain": [
       "<matplotlib.figure.Figure at 0x2263bf5f828>"
      ]
     },
     "metadata": {},
     "output_type": "display_data"
    }
   ],
   "source": [
    "# Show plot\n",
    "plt.show()"
   ]
  },
  {
   "cell_type": "markdown",
   "metadata": {},
   "source": [
    "# Latitude vs Humidity Plot"
   ]
  },
  {
   "cell_type": "code",
   "execution_count": 342,
   "metadata": {
    "collapsed": true
   },
   "outputs": [],
   "source": [
    "# Build a scatter plot for each data type\n",
    "plt.scatter(humidity, latitude, marker=\"o\")\n",
    "\n",
    "# Incorporate the other graph properties\n",
    "plt.title(\"City Latitude vs. Humidity\")\n",
    "plt.xlabel(\"Humidity %\")\n",
    "plt.ylabel(\"Latitude\")\n",
    "plt.grid(True)"
   ]
  },
  {
   "cell_type": "code",
   "execution_count": 343,
   "metadata": {
    "collapsed": true
   },
   "outputs": [],
   "source": [
    "# Save the figure\n",
    "plt.savefig(\"City_Latitude_vs_Humidity.png\")"
   ]
  },
  {
   "cell_type": "code",
   "execution_count": 344,
   "metadata": {},
   "outputs": [
    {
     "data": {
      "image/png": "[encoded data removed]",
      "text/plain": [
       "<matplotlib.figure.Figure at 0x2263c06b780>"
      ]
     },
     "metadata": {},
     "output_type": "display_data"
    }
   ],
   "source": [
    "plt.show()"
   ]
  },
  {
   "cell_type": "markdown",
   "metadata": {},
   "source": [
    "# Latitude vs Cloudiness Plot"
   ]
  },
  {
   "cell_type": "code",
   "execution_count": 345,
   "metadata": {
    "collapsed": true
   },
   "outputs": [],
   "source": [
    "# Build a scatter plot for each data type\n",
    "plt.scatter(cloudiness, latitude, marker=\"o\")\n",
    "\n",
    "# Incorporate the other graph properties\n",
    "plt.title(\"City Latitude vs. Cloudiness\")\n",
    "plt.xlabel(\"Cloudiness %\")\n",
    "plt.ylabel(\"Latitude\")\n",
    "plt.grid(True)"
   ]
  },
  {
   "cell_type": "code",
   "execution_count": 346,
   "metadata": {
    "collapsed": true
   },
   "outputs": [],
   "source": [
    "# Save the figure\n",
    "plt.savefig(\"City_Latitude_vs_Cloudiness.png\")"
   ]
  },
  {
   "cell_type": "code",
   "execution_count": 347,
   "metadata": {},
   "outputs": [
    {
     "data": {
      "image/png": "[encoded data removed]",
      "text/plain": [
       "<matplotlib.figure.Figure at 0x2263c5d9240>"
      ]
     },
     "metadata": {},
     "output_type": "display_data"
    }
   ],
   "source": [
    "plt.show()"
   ]
  },
  {
   "cell_type": "code",
   "execution_count": 348,
   "metadata": {
    "collapsed": true
   },
   "outputs": [],
   "source": [
    "#Latitude vs Wind Speed"
   ]
  },
  {
   "cell_type": "code",
   "execution_count": 349,
   "metadata": {
    "collapsed": true
   },
   "outputs": [],
   "source": [
    "# Build a scatter plot for each data type\n",
    "plt.scatter(wind_speed, latitude, marker=\"o\")\n",
    "\n",
    "# Incorporate the other graph properties\n",
    "plt.title(\"City Latitude vs. Wind Speed\")\n",
    "plt.xlabel(\"Wind Speed Meter/Second\")\n",
    "plt.ylabel(\"Latitude\")\n",
    "plt.grid(True)"
   ]
  },
  {
   "cell_type": "code",
   "execution_count": 350,
   "metadata": {
    "collapsed": true
   },
   "outputs": [],
   "source": [
    "# Save the figure\n",
    "plt.savefig(\"City_Latitude_vs_Wind_Speed.png\")"
   ]
  },
  {
   "cell_type": "code",
   "execution_count": 351,
   "metadata": {},
   "outputs": [
    {
     "data": {
      "image/png": "[encoded data removed]",
      "text/plain": [
       "<matplotlib.figure.Figure at 0x2263c43bb38>"
      ]
     },
     "metadata": {},
     "output_type": "display_data"
    }
   ],
   "source": [
    "plt.show()"
   ]
  }
 ],
 "metadata": {
  "kernelspec": {
   "display_name": "Python 3",
   "language": "python",
   "name": "python3"
  },
  "language_info": {
   "codemirror_mode": {
    "name": "ipython",
    "version": 3
   },
   "file_extension": ".py",
   "mimetype": "text/x-python",
   "name": "python",
   "nbconvert_exporter": "python",
   "pygments_lexer": "ipython3",
   "version": "3.6.2"
  }
 },
 "nbformat": 4,
 "nbformat_minor": 2
}
